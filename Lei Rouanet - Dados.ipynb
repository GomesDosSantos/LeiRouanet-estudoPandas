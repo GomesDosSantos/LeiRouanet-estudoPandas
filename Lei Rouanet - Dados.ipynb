{
 "cells": [
  {
   "cell_type": "code",
   "execution_count": 2,
   "metadata": {},
   "outputs": [],
   "source": [
    "import pandas as pd"
   ]
  },
  {
   "cell_type": "code",
   "execution_count": 3,
   "metadata": {},
   "outputs": [],
   "source": [
    "import seaborn as sb"
   ]
  },
  {
   "cell_type": "code",
   "execution_count": 4,
   "metadata": {},
   "outputs": [],
   "source": [
    "low_memory = False"
   ]
  },
  {
   "cell_type": "code",
   "execution_count": 5,
   "metadata": {},
   "outputs": [],
   "source": [
    "%matplotlib inline"
   ]
  },
  {
   "cell_type": "code",
   "execution_count": 6,
   "metadata": {},
   "outputs": [],
   "source": [
    "pd.options.display.max_columns = 10"
   ]
  },
  {
   "cell_type": "code",
   "execution_count": 7,
   "metadata": {},
   "outputs": [],
   "source": [
    "pd.options.display.max_rows = 20"
   ]
  },
  {
   "cell_type": "code",
   "execution_count": 8,
   "metadata": {},
   "outputs": [],
   "source": [
    "filename = 'salicap-projetos.csv'"
   ]
  },
  {
   "cell_type": "code",
   "execution_count": 9,
   "metadata": {},
   "outputs": [],
   "source": [
    "df = pd.read_csv( filename )"
   ]
  },
  {
   "cell_type": "code",
   "execution_count": 10,
   "metadata": {},
   "outputs": [
    {
     "data": {
      "text/plain": [
       "(100, 32)"
      ]
     },
     "execution_count": 10,
     "metadata": {},
     "output_type": "execute_result"
    }
   ],
   "source": [
    "df.shape"
   ]
  },
  {
   "cell_type": "code",
   "execution_count": 11,
   "metadata": {},
   "outputs": [
    {
     "data": {
      "text/html": [
       "<div>\n",
       "<style scoped>\n",
       "    .dataframe tbody tr th:only-of-type {\n",
       "        vertical-align: middle;\n",
       "    }\n",
       "\n",
       "    .dataframe tbody tr th {\n",
       "        vertical-align: top;\n",
       "    }\n",
       "\n",
       "    .dataframe thead th {\n",
       "        text-align: right;\n",
       "    }\n",
       "</style>\n",
       "<table border=\"1\" class=\"dataframe\">\n",
       "  <thead>\n",
       "    <tr style=\"text-align: right;\">\n",
       "      <th></th>\n",
       "      <th>outras_fontes</th>\n",
       "      <th>PRONAC</th>\n",
       "      <th>valor_aprovado</th>\n",
       "      <th>valor_solicitado</th>\n",
       "      <th>valor_projeto</th>\n",
       "      <th>ano_projeto</th>\n",
       "      <th>valor_captado</th>\n",
       "      <th>valor_proposta</th>\n",
       "    </tr>\n",
       "  </thead>\n",
       "  <tbody>\n",
       "    <tr>\n",
       "      <th>count</th>\n",
       "      <td>100.00000</td>\n",
       "      <td>100.000000</td>\n",
       "      <td>1.000000e+02</td>\n",
       "      <td>1.000000e+02</td>\n",
       "      <td>1.000000e+02</td>\n",
       "      <td>100.0</td>\n",
       "      <td>100.000000</td>\n",
       "      <td>1.000000e+02</td>\n",
       "    </tr>\n",
       "    <tr>\n",
       "      <th>mean</th>\n",
       "      <td>1082.50000</td>\n",
       "      <td>183802.300000</td>\n",
       "      <td>2.075539e+06</td>\n",
       "      <td>2.075710e+06</td>\n",
       "      <td>2.076621e+06</td>\n",
       "      <td>18.0</td>\n",
       "      <td>1795.571600</td>\n",
       "      <td>2.076868e+06</td>\n",
       "    </tr>\n",
       "    <tr>\n",
       "      <th>std</th>\n",
       "      <td>9773.00026</td>\n",
       "      <td>30.991201</td>\n",
       "      <td>4.447452e+06</td>\n",
       "      <td>4.447437e+06</td>\n",
       "      <td>4.447353e+06</td>\n",
       "      <td>0.0</td>\n",
       "      <td>12039.585852</td>\n",
       "      <td>4.447311e+06</td>\n",
       "    </tr>\n",
       "    <tr>\n",
       "      <th>min</th>\n",
       "      <td>0.00000</td>\n",
       "      <td>183750.000000</td>\n",
       "      <td>0.000000e+00</td>\n",
       "      <td>0.000000e+00</td>\n",
       "      <td>0.000000e+00</td>\n",
       "      <td>18.0</td>\n",
       "      <td>0.000000</td>\n",
       "      <td>0.000000e+00</td>\n",
       "    </tr>\n",
       "    <tr>\n",
       "      <th>25%</th>\n",
       "      <td>0.00000</td>\n",
       "      <td>183774.750000</td>\n",
       "      <td>3.501056e+05</td>\n",
       "      <td>3.496794e+05</td>\n",
       "      <td>3.772205e+05</td>\n",
       "      <td>18.0</td>\n",
       "      <td>0.000000</td>\n",
       "      <td>3.772205e+05</td>\n",
       "    </tr>\n",
       "    <tr>\n",
       "      <th>50%</th>\n",
       "      <td>0.00000</td>\n",
       "      <td>183802.500000</td>\n",
       "      <td>7.076069e+05</td>\n",
       "      <td>7.076069e+05</td>\n",
       "      <td>7.076069e+05</td>\n",
       "      <td>18.0</td>\n",
       "      <td>0.000000</td>\n",
       "      <td>7.076069e+05</td>\n",
       "    </tr>\n",
       "    <tr>\n",
       "      <th>75%</th>\n",
       "      <td>0.00000</td>\n",
       "      <td>183828.250000</td>\n",
       "      <td>1.656028e+06</td>\n",
       "      <td>1.669292e+06</td>\n",
       "      <td>1.656028e+06</td>\n",
       "      <td>18.0</td>\n",
       "      <td>0.000000</td>\n",
       "      <td>1.669292e+06</td>\n",
       "    </tr>\n",
       "    <tr>\n",
       "      <th>max</th>\n",
       "      <td>97450.00000</td>\n",
       "      <td>183855.000000</td>\n",
       "      <td>3.141978e+07</td>\n",
       "      <td>3.141978e+07</td>\n",
       "      <td>3.141978e+07</td>\n",
       "      <td>18.0</td>\n",
       "      <td>115000.000000</td>\n",
       "      <td>3.141978e+07</td>\n",
       "    </tr>\n",
       "  </tbody>\n",
       "</table>\n",
       "</div>"
      ],
      "text/plain": [
       "       outras_fontes         PRONAC  valor_aprovado  valor_solicitado  \\\n",
       "count      100.00000     100.000000    1.000000e+02      1.000000e+02   \n",
       "mean      1082.50000  183802.300000    2.075539e+06      2.075710e+06   \n",
       "std       9773.00026      30.991201    4.447452e+06      4.447437e+06   \n",
       "min          0.00000  183750.000000    0.000000e+00      0.000000e+00   \n",
       "25%          0.00000  183774.750000    3.501056e+05      3.496794e+05   \n",
       "50%          0.00000  183802.500000    7.076069e+05      7.076069e+05   \n",
       "75%          0.00000  183828.250000    1.656028e+06      1.669292e+06   \n",
       "max      97450.00000  183855.000000    3.141978e+07      3.141978e+07   \n",
       "\n",
       "       valor_projeto  ano_projeto  valor_captado  valor_proposta  \n",
       "count   1.000000e+02        100.0     100.000000    1.000000e+02  \n",
       "mean    2.076621e+06         18.0    1795.571600    2.076868e+06  \n",
       "std     4.447353e+06          0.0   12039.585852    4.447311e+06  \n",
       "min     0.000000e+00         18.0       0.000000    0.000000e+00  \n",
       "25%     3.772205e+05         18.0       0.000000    3.772205e+05  \n",
       "50%     7.076069e+05         18.0       0.000000    7.076069e+05  \n",
       "75%     1.656028e+06         18.0       0.000000    1.669292e+06  \n",
       "max     3.141978e+07         18.0  115000.000000    3.141978e+07  "
      ]
     },
     "execution_count": 11,
     "metadata": {},
     "output_type": "execute_result"
    }
   ],
   "source": [
    "df.describe()"
   ]
  },
  {
   "cell_type": "code",
   "execution_count": 12,
   "metadata": {},
   "outputs": [
    {
     "name": "stdout",
     "output_type": "stream",
     "text": [
      "<class 'pandas.core.frame.DataFrame'>\n",
      "RangeIndex: 100 entries, 0 to 99\n",
      "Data columns (total 32 columns):\n",
      "etapa                    99 non-null object\n",
      "providencia              100 non-null object\n",
      "area                     100 non-null object\n",
      "enquadramento            100 non-null object\n",
      "objetivos                99 non-null object\n",
      "ficha_tecnica            99 non-null object\n",
      "situacao                 100 non-null object\n",
      "outras_fontes            100 non-null float64\n",
      "acessibilidade           99 non-null object\n",
      "sinopse                  93 non-null object\n",
      "nome                     100 non-null object\n",
      "cgccpf                   100 non-null object\n",
      "mecanismo                100 non-null object\n",
      "segmento                 100 non-null object\n",
      "PRONAC                   100 non-null int64\n",
      "estrategia_execucao      79 non-null object\n",
      "valor_aprovado           100 non-null float64\n",
      "justificativa            99 non-null object\n",
      "resumo                   100 non-null object\n",
      "valor_solicitado         100 non-null float64\n",
      "especificacao_tecnica    91 non-null object\n",
      "municipio                100 non-null object\n",
      "data_termino             99 non-null object\n",
      "UF                       100 non-null object\n",
      "impacto_ambiental        27 non-null object\n",
      "democratizacao           99 non-null object\n",
      "valor_projeto            100 non-null float64\n",
      "proponente               100 non-null object\n",
      "ano_projeto              100 non-null int64\n",
      "data_inicio              99 non-null object\n",
      "valor_captado            100 non-null float64\n",
      "valor_proposta           100 non-null float64\n",
      "dtypes: float64(6), int64(2), object(24)\n",
      "memory usage: 15.7+ KB\n"
     ]
    }
   ],
   "source": [
    "df.info()"
   ]
  },
  {
   "cell_type": "code",
   "execution_count": 52,
   "metadata": {},
   "outputs": [
    {
     "data": {
      "text/html": [
       "<div>\n",
       "<style scoped>\n",
       "    .dataframe tbody tr th:only-of-type {\n",
       "        vertical-align: middle;\n",
       "    }\n",
       "\n",
       "    .dataframe tbody tr th {\n",
       "        vertical-align: top;\n",
       "    }\n",
       "\n",
       "    .dataframe thead th {\n",
       "        text-align: right;\n",
       "    }\n",
       "</style>\n",
       "<table border=\"1\" class=\"dataframe\">\n",
       "  <thead>\n",
       "    <tr style=\"text-align: right;\">\n",
       "      <th></th>\n",
       "      <th>etapa</th>\n",
       "      <th>providencia</th>\n",
       "      <th>area</th>\n",
       "      <th>enquadramento</th>\n",
       "      <th>objetivos</th>\n",
       "      <th>...</th>\n",
       "      <th>proponente</th>\n",
       "      <th>ano_projeto</th>\n",
       "      <th>data_inicio</th>\n",
       "      <th>valor_captado</th>\n",
       "      <th>valor_proposta</th>\n",
       "    </tr>\n",
       "  </thead>\n",
       "  <tbody>\n",
       "    <tr>\n",
       "      <th>26</th>\n",
       "      <td>Etapas da Produção PRÉ-PRODUÇÃO – 4 meses Capt...</td>\n",
       "      <td>Abertura de conta bancária de livre movimentaç...</td>\n",
       "      <td>Artes Cênicas</td>\n",
       "      <td>Artigo 18</td>\n",
       "      <td>Objetivos Gerais Contribuir para facilitar, a ...</td>\n",
       "      <td>...</td>\n",
       "      <td>ASSOCIAÇÃO CULTURAL E QJ RETIRANTES DO SERTÃO</td>\n",
       "      <td>18</td>\n",
       "      <td>2018-12-10</td>\n",
       "      <td>0.0</td>\n",
       "      <td>261331.25</td>\n",
       "    </tr>\n",
       "    <tr>\n",
       "      <th>81</th>\n",
       "      <td>Etapas de Trabalho produto: 19ª Feira Nacional...</td>\n",
       "      <td>Abertura de conta bancária de livre movimentaç...</td>\n",
       "      <td>Humanidades</td>\n",
       "      <td>Artigo 18</td>\n",
       "      <td>Objetivo Geral: Realizar no período de 08 dias...</td>\n",
       "      <td>...</td>\n",
       "      <td>FUNDAÇÃO DO LIVRO E LEITURA DE RIBEIRÃO PRETO</td>\n",
       "      <td>18</td>\n",
       "      <td>2019-01-01</td>\n",
       "      <td>0.0</td>\n",
       "      <td>1368796.13</td>\n",
       "    </tr>\n",
       "    <tr>\n",
       "      <th>36</th>\n",
       "      <td>O projeto será desenvolvido ao longo de 10 mes...</td>\n",
       "      <td>Abertura de conta bancária de livre movimentaç...</td>\n",
       "      <td>Audiovisual</td>\n",
       "      <td>Artigo 18</td>\n",
       "      <td>O atual projeto foi clonado do projeto de 2018...</td>\n",
       "      <td>...</td>\n",
       "      <td>Klaxon Cultura Audiovisual Ltda - ME</td>\n",
       "      <td>18</td>\n",
       "      <td>2019-01-01</td>\n",
       "      <td>0.0</td>\n",
       "      <td>658544.67</td>\n",
       "    </tr>\n",
       "    <tr>\n",
       "      <th>5</th>\n",
       "      <td>PRÉ-PRODUÇÃO: Lançamento do Projeto: Evento a ...</td>\n",
       "      <td>Abertura de conta bancária de livre movimentaç...</td>\n",
       "      <td>Artes Cênicas</td>\n",
       "      <td>Artigo 18</td>\n",
       "      <td>OBJETIVO GERAL - Proporcionar gratuitamente a ...</td>\n",
       "      <td>...</td>\n",
       "      <td>Associação Comercial e Empresarial de Toledo -...</td>\n",
       "      <td>18</td>\n",
       "      <td>2018-12-20</td>\n",
       "      <td>0.0</td>\n",
       "      <td>386033.90</td>\n",
       "    </tr>\n",
       "    <tr>\n",
       "      <th>59</th>\n",
       "      <td>ETAPAS DE TRABALHO PRÉ-PRODUÇÃO – 3 meses .   ...</td>\n",
       "      <td>Abertura de conta bancária de livre movimentaç...</td>\n",
       "      <td>Artes Cênicas</td>\n",
       "      <td>Artigo 18</td>\n",
       "      <td>Objetivos Gerais - Trabalhar o universo infant...</td>\n",
       "      <td>...</td>\n",
       "      <td>Renovarte Produções Culturais LTDA - ME</td>\n",
       "      <td>18</td>\n",
       "      <td>2019-01-01</td>\n",
       "      <td>0.0</td>\n",
       "      <td>692387.50</td>\n",
       "    </tr>\n",
       "  </tbody>\n",
       "</table>\n",
       "<p>5 rows × 32 columns</p>\n",
       "</div>"
      ],
      "text/plain": [
       "                                                etapa  \\\n",
       "26  Etapas da Produção PRÉ-PRODUÇÃO – 4 meses Capt...   \n",
       "81  Etapas de Trabalho produto: 19ª Feira Nacional...   \n",
       "36  O projeto será desenvolvido ao longo de 10 mes...   \n",
       "5   PRÉ-PRODUÇÃO: Lançamento do Projeto: Evento a ...   \n",
       "59  ETAPAS DE TRABALHO PRÉ-PRODUÇÃO – 3 meses .   ...   \n",
       "\n",
       "                                          providencia           area  \\\n",
       "26  Abertura de conta bancária de livre movimentaç...  Artes Cênicas   \n",
       "81  Abertura de conta bancária de livre movimentaç...    Humanidades   \n",
       "36  Abertura de conta bancária de livre movimentaç...    Audiovisual   \n",
       "5   Abertura de conta bancária de livre movimentaç...  Artes Cênicas   \n",
       "59  Abertura de conta bancária de livre movimentaç...  Artes Cênicas   \n",
       "\n",
       "   enquadramento                                          objetivos  \\\n",
       "26     Artigo 18  Objetivos Gerais Contribuir para facilitar, a ...   \n",
       "81     Artigo 18  Objetivo Geral: Realizar no período de 08 dias...   \n",
       "36     Artigo 18  O atual projeto foi clonado do projeto de 2018...   \n",
       "5      Artigo 18  OBJETIVO GERAL - Proporcionar gratuitamente a ...   \n",
       "59     Artigo 18  Objetivos Gerais - Trabalhar o universo infant...   \n",
       "\n",
       "        ...                                               proponente  \\\n",
       "26      ...            ASSOCIAÇÃO CULTURAL E QJ RETIRANTES DO SERTÃO   \n",
       "81      ...            FUNDAÇÃO DO LIVRO E LEITURA DE RIBEIRÃO PRETO   \n",
       "36      ...                     Klaxon Cultura Audiovisual Ltda - ME   \n",
       "5       ...        Associação Comercial e Empresarial de Toledo -...   \n",
       "59      ...                  Renovarte Produções Culturais LTDA - ME   \n",
       "\n",
       "   ano_projeto  data_inicio valor_captado valor_proposta  \n",
       "26          18   2018-12-10           0.0      261331.25  \n",
       "81          18   2019-01-01           0.0     1368796.13  \n",
       "36          18   2019-01-01           0.0      658544.67  \n",
       "5           18   2018-12-20           0.0      386033.90  \n",
       "59          18   2019-01-01           0.0      692387.50  \n",
       "\n",
       "[5 rows x 32 columns]"
      ]
     },
     "execution_count": 52,
     "metadata": {},
     "output_type": "execute_result"
    }
   ],
   "source": [
    "df.sample( 5 )"
   ]
  },
  {
   "cell_type": "markdown",
   "metadata": {},
   "source": [
    "<h2>Qual é a situação dos projetos atuais no Brasil</h2>"
   ]
  },
  {
   "cell_type": "code",
   "execution_count": 16,
   "metadata": {},
   "outputs": [
    {
     "data": {
      "text/plain": [
       "<matplotlib.axes._subplots.AxesSubplot at 0x133aeb0>"
      ]
     },
     "execution_count": 16,
     "metadata": {},
     "output_type": "execute_result"
    },
    {
     "data": {
      "image/png": "[encoded data removed]",
      "text/plain": [
       "<Figure size 432x288 with 1 Axes>"
      ]
     },
     "metadata": {
      "needs_background": "light"
     },
     "output_type": "display_data"
    }
   ],
   "source": [
    "df.groupby( 'situacao' ).size().sort_values().plot.barh()"
   ]
  },
  {
   "cell_type": "markdown",
   "metadata": {},
   "source": [
    "Muitos deles já estão aprovados para a captação de recursos pelo governo.\n",
    "<h2>Qual é a quantidade de projetos por estado?</h2>"
   ]
  },
  {
   "cell_type": "code",
   "execution_count": 68,
   "metadata": {},
   "outputs": [
    {
     "data": {
      "text/plain": [
       "<matplotlib.axes._subplots.AxesSubplot at 0x1646e70>"
      ]
     },
     "execution_count": 68,
     "metadata": {},
     "output_type": "execute_result"
    },
    {
     "data": {
      "image/png": "[encoded data removed]",
      "text/plain": [
       "<Figure size 432x288 with 1 Axes>"
      ]
     },
     "metadata": {
      "needs_background": "light"
     },
     "output_type": "display_data"
    }
   ],
   "source": [
    "df.groupby( 'UF' ).size().sort_values().plot.barh()"
   ]
  },
  {
   "cell_type": "markdown",
   "metadata": {},
   "source": [
    "<h2>Alguns projetos com valor aprovado maior que 1000000:</h2>"
   ]
  },
  {
   "cell_type": "code",
   "execution_count": 69,
   "metadata": {},
   "outputs": [
    {
     "data": {
      "text/html": [
       "<div>\n",
       "<style scoped>\n",
       "    .dataframe tbody tr th:only-of-type {\n",
       "        vertical-align: middle;\n",
       "    }\n",
       "\n",
       "    .dataframe tbody tr th {\n",
       "        vertical-align: top;\n",
       "    }\n",
       "\n",
       "    .dataframe thead th {\n",
       "        text-align: right;\n",
       "    }\n",
       "</style>\n",
       "<table border=\"1\" class=\"dataframe\">\n",
       "  <thead>\n",
       "    <tr style=\"text-align: right;\">\n",
       "      <th></th>\n",
       "      <th>nome</th>\n",
       "      <th>valor_aprovado</th>\n",
       "      <th>UF</th>\n",
       "    </tr>\n",
       "  </thead>\n",
       "  <tbody>\n",
       "    <tr>\n",
       "      <th>1</th>\n",
       "      <td>24º É Tudo Verdade - Festival Internacional de...</td>\n",
       "      <td>1955871.00</td>\n",
       "      <td>SP</td>\n",
       "    </tr>\n",
       "    <tr>\n",
       "      <th>13</th>\n",
       "      <td>Bossa &amp; Roll</td>\n",
       "      <td>1980428.60</td>\n",
       "      <td>SP</td>\n",
       "    </tr>\n",
       "    <tr>\n",
       "      <th>20</th>\n",
       "      <td>ENFIM A SORTE CHEGOU</td>\n",
       "      <td>1635177.50</td>\n",
       "      <td>RJ</td>\n",
       "    </tr>\n",
       "    <tr>\n",
       "      <th>23</th>\n",
       "      <td>Festival BB Seguros de Blues e Jazz 5a Edição</td>\n",
       "      <td>6509455.48</td>\n",
       "      <td>SP</td>\n",
       "    </tr>\n",
       "    <tr>\n",
       "      <th>29</th>\n",
       "      <td>Woodstock Belo Horizonte - Uma viagem imersiva...</td>\n",
       "      <td>1280475.33</td>\n",
       "      <td>RJ</td>\n",
       "    </tr>\n",
       "    <tr>\n",
       "      <th>30</th>\n",
       "      <td>MODA AUTORAL BRASILEIRA</td>\n",
       "      <td>1306450.15</td>\n",
       "      <td>SP</td>\n",
       "    </tr>\n",
       "    <tr>\n",
       "      <th>32</th>\n",
       "      <td>Djavan – A Rota do Indivíduo</td>\n",
       "      <td>1870812.69</td>\n",
       "      <td>RJ</td>\n",
       "    </tr>\n",
       "    <tr>\n",
       "      <th>33</th>\n",
       "      <td>Reforma do Teatro Colégio Santo Antônio</td>\n",
       "      <td>2219564.97</td>\n",
       "      <td>SP</td>\n",
       "    </tr>\n",
       "    <tr>\n",
       "      <th>35</th>\n",
       "      <td>Cinema É Pra Você, sim - Norte</td>\n",
       "      <td>2434461.56</td>\n",
       "      <td>SP</td>\n",
       "    </tr>\n",
       "    <tr>\n",
       "      <th>38</th>\n",
       "      <td>PLANO ANUAL CASA FIAT DE CULTURA 2019</td>\n",
       "      <td>17135812.67</td>\n",
       "      <td>MG</td>\n",
       "    </tr>\n",
       "  </tbody>\n",
       "</table>\n",
       "</div>"
      ],
      "text/plain": [
       "                                                 nome  valor_aprovado  UF\n",
       "1   24º É Tudo Verdade - Festival Internacional de...      1955871.00  SP\n",
       "13                                       Bossa & Roll      1980428.60  SP\n",
       "20                               ENFIM A SORTE CHEGOU      1635177.50  RJ\n",
       "23      Festival BB Seguros de Blues e Jazz 5a Edição      6509455.48  SP\n",
       "29  Woodstock Belo Horizonte - Uma viagem imersiva...      1280475.33  RJ\n",
       "30                            MODA AUTORAL BRASILEIRA      1306450.15  SP\n",
       "32                       Djavan – A Rota do Indivíduo      1870812.69  RJ\n",
       "33           Reforma do Teatro Colégio Santo Antônio       2219564.97  SP\n",
       "35                     Cinema É Pra Você, sim - Norte      2434461.56  SP\n",
       "38              PLANO ANUAL CASA FIAT DE CULTURA 2019     17135812.67  MG"
      ]
     },
     "execution_count": 69,
     "metadata": {},
     "output_type": "execute_result"
    }
   ],
   "source": [
    "df.query( 'valor_aprovado > 1000000' )[['nome' , 'valor_aprovado' , 'UF']].head( 10 )"
   ]
  },
  {
   "cell_type": "code",
   "execution_count": 70,
   "metadata": {},
   "outputs": [
    {
     "data": {
      "text/html": [
       "<div>\n",
       "<style scoped>\n",
       "    .dataframe tbody tr th:only-of-type {\n",
       "        vertical-align: middle;\n",
       "    }\n",
       "\n",
       "    .dataframe tbody tr th {\n",
       "        vertical-align: top;\n",
       "    }\n",
       "\n",
       "    .dataframe thead th {\n",
       "        text-align: right;\n",
       "    }\n",
       "</style>\n",
       "<table border=\"1\" class=\"dataframe\">\n",
       "  <thead>\n",
       "    <tr style=\"text-align: right;\">\n",
       "      <th></th>\n",
       "      <th>nome</th>\n",
       "      <th>area</th>\n",
       "      <th>UF</th>\n",
       "    </tr>\n",
       "  </thead>\n",
       "  <tbody>\n",
       "    <tr>\n",
       "      <th>1</th>\n",
       "      <td>24º É Tudo Verdade - Festival Internacional de...</td>\n",
       "      <td>Audiovisual</td>\n",
       "      <td>SP</td>\n",
       "    </tr>\n",
       "    <tr>\n",
       "      <th>13</th>\n",
       "      <td>Bossa &amp; Roll</td>\n",
       "      <td>Artes Cênicas</td>\n",
       "      <td>SP</td>\n",
       "    </tr>\n",
       "    <tr>\n",
       "      <th>20</th>\n",
       "      <td>ENFIM A SORTE CHEGOU</td>\n",
       "      <td>Artes Cênicas</td>\n",
       "      <td>RJ</td>\n",
       "    </tr>\n",
       "    <tr>\n",
       "      <th>23</th>\n",
       "      <td>Festival BB Seguros de Blues e Jazz 5a Edição</td>\n",
       "      <td>Música</td>\n",
       "      <td>SP</td>\n",
       "    </tr>\n",
       "    <tr>\n",
       "      <th>29</th>\n",
       "      <td>Woodstock Belo Horizonte - Uma viagem imersiva...</td>\n",
       "      <td>Artes Visuais</td>\n",
       "      <td>RJ</td>\n",
       "    </tr>\n",
       "    <tr>\n",
       "      <th>30</th>\n",
       "      <td>MODA AUTORAL BRASILEIRA</td>\n",
       "      <td>Artes Visuais</td>\n",
       "      <td>SP</td>\n",
       "    </tr>\n",
       "    <tr>\n",
       "      <th>32</th>\n",
       "      <td>Djavan – A Rota do Indivíduo</td>\n",
       "      <td>Artes Cênicas</td>\n",
       "      <td>RJ</td>\n",
       "    </tr>\n",
       "    <tr>\n",
       "      <th>33</th>\n",
       "      <td>Reforma do Teatro Colégio Santo Antônio</td>\n",
       "      <td>Patrimônio Cultural</td>\n",
       "      <td>SP</td>\n",
       "    </tr>\n",
       "    <tr>\n",
       "      <th>35</th>\n",
       "      <td>Cinema É Pra Você, sim - Norte</td>\n",
       "      <td>Audiovisual</td>\n",
       "      <td>SP</td>\n",
       "    </tr>\n",
       "    <tr>\n",
       "      <th>38</th>\n",
       "      <td>PLANO ANUAL CASA FIAT DE CULTURA 2019</td>\n",
       "      <td>Artes Visuais</td>\n",
       "      <td>MG</td>\n",
       "    </tr>\n",
       "  </tbody>\n",
       "</table>\n",
       "</div>"
      ],
      "text/plain": [
       "                                                 nome                 area  UF\n",
       "1   24º É Tudo Verdade - Festival Internacional de...          Audiovisual  SP\n",
       "13                                       Bossa & Roll        Artes Cênicas  SP\n",
       "20                               ENFIM A SORTE CHEGOU        Artes Cênicas  RJ\n",
       "23      Festival BB Seguros de Blues e Jazz 5a Edição               Música  SP\n",
       "29  Woodstock Belo Horizonte - Uma viagem imersiva...        Artes Visuais  RJ\n",
       "30                            MODA AUTORAL BRASILEIRA        Artes Visuais  SP\n",
       "32                       Djavan – A Rota do Indivíduo        Artes Cênicas  RJ\n",
       "33           Reforma do Teatro Colégio Santo Antônio   Patrimônio Cultural  SP\n",
       "35                     Cinema É Pra Você, sim - Norte          Audiovisual  SP\n",
       "38              PLANO ANUAL CASA FIAT DE CULTURA 2019        Artes Visuais  MG"
      ]
     },
     "execution_count": 70,
     "metadata": {},
     "output_type": "execute_result"
    }
   ],
   "source": [
    "df.query( 'valor_aprovado > 1000000' )[['nome' , 'area' , 'UF']].head( 10 )"
   ]
  },
  {
   "cell_type": "markdown",
   "metadata": {},
   "source": [
    "<h2>Qual a quantidade de projetos aprovados que estão prontos para captar recursos por estado?</h2>"
   ]
  },
  {
   "cell_type": "code",
   "execution_count": 71,
   "metadata": {},
   "outputs": [
    {
     "data": {
      "text/plain": [
       "<matplotlib.axes._subplots.AxesSubplot at 0x16a5df0>"
      ]
     },
     "execution_count": 71,
     "metadata": {},
     "output_type": "execute_result"
    },
    {
     "data": {
      "image/png": "[encoded data removed]",
      "text/plain": [
       "<Figure size 432x288 with 1 Axes>"
      ]
     },
     "metadata": {
      "needs_background": "light"
     },
     "output_type": "display_data"
    }
   ],
   "source": [
    "df.query( 'situacao == \"Autorizada a captação total dos recursos\"' ).groupby( 'UF' ).size().sort_values().plot.barh()"
   ]
  },
  {
   "cell_type": "markdown",
   "metadata": {},
   "source": [
    "Podemos ver que São Paulo possui vários projetos aprovados.\n",
    "<h2>Qual é o valor aprovado total dos projetos por estado?</h2>"
   ]
  },
  {
   "cell_type": "code",
   "execution_count": 72,
   "metadata": {},
   "outputs": [
    {
     "data": {
      "text/plain": [
       "<matplotlib.axes._subplots.AxesSubplot at 0x16d1410>"
      ]
     },
     "execution_count": 72,
     "metadata": {},
     "output_type": "execute_result"
    },
    {
     "data": {
      "image/png": "[encoded data removed]",
      "text/plain": [
       "<Figure size 432x288 with 1 Axes>"
      ]
     },
     "metadata": {
      "needs_background": "light"
     },
     "output_type": "display_data"
    }
   ],
   "source": [
    "df.groupby( 'UF' )[ 'valor_aprovado' ].sum().sort_values().plot.barh()"
   ]
  },
  {
   "cell_type": "code",
   "execution_count": 73,
   "metadata": {},
   "outputs": [
    {
     "data": {
      "text/plain": [
       "<matplotlib.axes._subplots.AxesSubplot at 0x1729f30>"
      ]
     },
     "execution_count": 73,
     "metadata": {},
     "output_type": "execute_result"
    },
    {
     "data": {
      "image/png": "[encoded data removed]",
      "text/plain": [
       "<Figure size 432x288 with 1 Axes>"
      ]
     },
     "metadata": {},
     "output_type": "display_data"
    }
   ],
   "source": [
    "df.groupby( 'UF' )[ 'valor_aprovado' ].sum().sort_values().plot.pie()"
   ]
  },
  {
   "cell_type": "markdown",
   "metadata": {},
   "source": [
    "<h2>Qual é o tipo de projeto mais comum apresentado à Lei em <i>São Paulo?</i></h2>\n",
    "Em São Paulo é Artes Cênicas, seguido de Música, Humanidades, etc..."
   ]
  },
  {
   "cell_type": "code",
   "execution_count": 78,
   "metadata": {},
   "outputs": [
    {
     "data": {
      "text/plain": [
       "<matplotlib.axes._subplots.AxesSubplot at 0x574b7f0>"
      ]
     },
     "execution_count": 78,
     "metadata": {},
     "output_type": "execute_result"
    },
    {
     "data": {
      "image/png": "[encoded data removed]",
      "text/plain": [
       "<Figure size 432x288 with 1 Axes>"
      ]
     },
     "metadata": {},
     "output_type": "display_data"
    }
   ],
   "source": [
    "df.query( 'UF == \"SP\"' ).groupby( 'area' ).size().sort_values().plot.pie()"
   ]
  },
  {
   "cell_type": "markdown",
   "metadata": {},
   "source": [
    "<h2>Qual o valor aprovado total para cada área em <i>São Paulo</i>?</h2>"
   ]
  },
  {
   "cell_type": "code",
   "execution_count": 79,
   "metadata": {},
   "outputs": [
    {
     "data": {
      "text/plain": [
       "<matplotlib.axes._subplots.AxesSubplot at 0x577d3b0>"
      ]
     },
     "execution_count": 79,
     "metadata": {},
     "output_type": "execute_result"
    },
    {
     "data": {
      "image/png": "[encoded data removed]",
      "text/plain": [
       "<Figure size 432x288 with 1 Axes>"
      ]
     },
     "metadata": {},
     "output_type": "display_data"
    }
   ],
   "source": [
    "df.query( 'UF == \"SP\"' ).groupby( 'area' )['valor_aprovado'].sum().sort_values().plot.pie()"
   ]
  },
  {
   "cell_type": "markdown",
   "metadata": {},
   "source": [
    "<b>Podemos ver que, embora a maioria seja projetos da <i>Artes Cênicas</i>, os gastos são maiores com Música.</b>\n",
    "<h3>No país, a situação não parece mudar muito.</h3>"
   ]
  },
  {
   "cell_type": "code",
   "execution_count": 80,
   "metadata": {},
   "outputs": [
    {
     "data": {
      "text/html": [
       "<div>\n",
       "<style scoped>\n",
       "    .dataframe tbody tr th:only-of-type {\n",
       "        vertical-align: middle;\n",
       "    }\n",
       "\n",
       "    .dataframe tbody tr th {\n",
       "        vertical-align: top;\n",
       "    }\n",
       "\n",
       "    .dataframe thead th {\n",
       "        text-align: right;\n",
       "    }\n",
       "</style>\n",
       "<table border=\"1\" class=\"dataframe\">\n",
       "  <thead>\n",
       "    <tr style=\"text-align: right;\">\n",
       "      <th></th>\n",
       "      <th>0</th>\n",
       "    </tr>\n",
       "    <tr>\n",
       "      <th>area</th>\n",
       "      <th></th>\n",
       "    </tr>\n",
       "  </thead>\n",
       "  <tbody>\n",
       "    <tr>\n",
       "      <th>Artes Integradas</th>\n",
       "      <td>1</td>\n",
       "    </tr>\n",
       "    <tr>\n",
       "      <th>Audiovisual</th>\n",
       "      <td>5</td>\n",
       "    </tr>\n",
       "    <tr>\n",
       "      <th>Museus e Memória</th>\n",
       "      <td>5</td>\n",
       "    </tr>\n",
       "    <tr>\n",
       "      <th>Patrimônio Cultural</th>\n",
       "      <td>5</td>\n",
       "    </tr>\n",
       "    <tr>\n",
       "      <th>Artes Visuais</th>\n",
       "      <td>9</td>\n",
       "    </tr>\n",
       "    <tr>\n",
       "      <th>Humanidades</th>\n",
       "      <td>11</td>\n",
       "    </tr>\n",
       "    <tr>\n",
       "      <th>Música</th>\n",
       "      <td>27</td>\n",
       "    </tr>\n",
       "    <tr>\n",
       "      <th>Artes Cênicas</th>\n",
       "      <td>37</td>\n",
       "    </tr>\n",
       "  </tbody>\n",
       "</table>\n",
       "</div>"
      ],
      "text/plain": [
       "                      0\n",
       "area                   \n",
       "Artes Integradas      1\n",
       "Audiovisual           5\n",
       "Museus e Memória      5\n",
       "Patrimônio Cultural   5\n",
       "Artes Visuais         9\n",
       "Humanidades          11\n",
       "Música               27\n",
       "Artes Cênicas        37"
      ]
     },
     "execution_count": 80,
     "metadata": {},
     "output_type": "execute_result"
    }
   ],
   "source": [
    "df.groupby('area').size().sort_values().to_frame()"
   ]
  },
  {
   "cell_type": "code",
   "execution_count": 81,
   "metadata": {},
   "outputs": [
    {
     "data": {
      "text/plain": [
       "<matplotlib.axes._subplots.AxesSubplot at 0x57a1db0>"
      ]
     },
     "execution_count": 81,
     "metadata": {},
     "output_type": "execute_result"
    },
    {
     "data": {
      "image/png": "[encoded data removed]",
      "text/plain": [
       "<Figure size 432x288 with 1 Axes>"
      ]
     },
     "metadata": {
      "needs_background": "light"
     },
     "output_type": "display_data"
    }
   ],
   "source": [
    "df.groupby( 'area' )['valor_aprovado'].sum().sort_values().plot.barh()"
   ]
  },
  {
   "cell_type": "code",
   "execution_count": 83,
   "metadata": {},
   "outputs": [
    {
     "data": {
      "text/plain": [
       "<matplotlib.axes._subplots.AxesSubplot at 0x581caf0>"
      ]
     },
     "execution_count": 83,
     "metadata": {},
     "output_type": "execute_result"
    },
    {
     "data": {
      "image/png": "[encoded data removed]",
      "text/plain": [
       "<Figure size 432x288 with 1 Axes>"
      ]
     },
     "metadata": {},
     "output_type": "display_data"
    }
   ],
   "source": [
    "df.groupby( 'area' )['valor_aprovado'].sum().sort_values().plot.pie()"
   ]
  },
  {
   "cell_type": "code",
   "execution_count": null,
   "metadata": {},
   "outputs": [],
   "source": []
  }
 ],
 "metadata": {
  "kernelspec": {
   "display_name": "Python 3",
   "language": "python",
   "name": "python3"
  },
  "language_info": {
   "codemirror_mode": {
    "name": "ipython",
    "version": 3
   },
   "file_extension": ".py",
   "mimetype": "text/x-python",
   "name": "python",
   "nbconvert_exporter": "python",
   "pygments_lexer": "ipython3",
   "version": "3.7.0"
  }
 },
 "nbformat": 4,
 "nbformat_minor": 2
}
